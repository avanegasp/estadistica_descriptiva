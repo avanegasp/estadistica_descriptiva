{
  "nbformat": 4,
  "nbformat_minor": 0,
  "metadata": {
    "colab": {
      "provenance": [],
      "authorship_tag": "ABX9TyP+nqo7X8I60Wcp/2mAaD0M",
      "include_colab_link": true
    },
    "kernelspec": {
      "name": "python3",
      "display_name": "Python 3"
    },
    "language_info": {
      "name": "python"
    }
  },
  "cells": [
    {
      "cell_type": "markdown",
      "metadata": {
        "id": "view-in-github",
        "colab_type": "text"
      },
      "source": [
        "<a href=\"https://colab.research.google.com/github/avanegasp/estadistica_descriptiva/blob/main/Estadistica_descriptiva.ipynb\" target=\"_parent\"><img src=\"https://colab.research.google.com/assets/colab-badge.svg\" alt=\"Open In Colab\"/></a>"
      ]
    },
    {
      "cell_type": "markdown",
      "source": [
        "PASOS Y ROLES EN EL FLUJO DE TRABAJO DE DS\n",
        "\n",
        "ETL (D Analyst - D engineer)\n",
        "\n",
        "- ingresta de datos\n",
        "- visualización \n",
        "- Preparación\n",
        "\n",
        "MODELO (D Analyst - D scientist - ML engineer)\n",
        "- Entrenamiento del modelo\n",
        "- Evaluación\n",
        "- Validación \n",
        "\n",
        "PRODUCCIÓN (designer)\n",
        "\n",
        "- Usuario\n",
        "- model serving\n"
      ],
      "metadata": {
        "id": "DBeDAi-JNk0A"
      }
    },
    {
      "cell_type": "markdown",
      "source": [
        "TIPOS DE DATOS, PIPELINE DE PROCESAMIENTO\n",
        "(estadistica descriptiva)\n",
        "\n",
        "- ingesta de datos\n",
        "- validación\n",
        "\n",
        "\n",
        "ANALISIS EXPLORATORIO, ESTADÍSTICA DESCRIPTIVA. CORRELACIONES, REDUCCIÓN DE DATOS\n",
        "\n",
        "- Preparación\n",
        "- Entrenamiento de modelo\n",
        "\n",
        "\n",
        "PROBABILIDAD E INTERFERENCIA (estadistica descriptiva)\n",
        "\n",
        "- Evaluación del modelo\n",
        "\n",
        "TEST DE HIPOTESIS (test de hipotesis, probabilidad y la inferencia) (estadistica inferencial)\n",
        "\n",
        "- Modelo de producción\n",
        "- Interacción usuario final"
      ],
      "metadata": {
        "id": "UWtVwrMxPan3"
      }
    },
    {
      "cell_type": "markdown",
      "source": [
        "TIPOS DE DATOS\n",
        "\n",
        "\n",
        "CATEGÓRICOS\n",
        "(género, categoría de película, método de pago)\n",
        "- ordinal (relacion de orden en las categorias)\n",
        "- nominal (NO relacion de orden en las categorias)\n",
        "\n",
        "NÚMERICOS\n",
        "(edad, altura, temperatura)\n",
        "- discretos (entero, objeto, bool)\n",
        "- continuos (decimal, float) int64 (discreto), float64 (contínuo)"
      ],
      "metadata": {
        "id": "wXN_10AvSz4b"
      }
    },
    {
      "cell_type": "markdown",
      "source": [
        "MEDIDA DE TENDENCIA CENTRAL\n",
        "medida unica (promedio), me da la noción de dónde están los datos\n",
        "\n",
        "MEDIDAS DE DISTORCION\n",
        "de esos datos que tan dispersos están\n",
        "\n",
        "https://deepnote.com/workspace/angie-d4b6-4ea22a1f-c1ed-4df7-88fb-36b33e389936/project/curso-estadistica-descriptiva-2021-Duplicate-fe30fdec-5c10-4e4d-9c11-de8f5b8c92e3/notebook/platzi-curso-estadistica-descriptiva-2021%2F%5Bclase-04%5Dtipos-de-datos-225ab04bc2574083a8da4fb239230ad5"
      ],
      "metadata": {
        "id": "Znu8AyyOXfDg"
      }
    },
    {
      "cell_type": "markdown",
      "source": [],
      "metadata": {
        "id": "azAeVSNZXenX"
      }
    },
    {
      "cell_type": "markdown",
      "source": [],
      "metadata": {
        "id": "INBK6QDwQfic"
      }
    }
  ]
}